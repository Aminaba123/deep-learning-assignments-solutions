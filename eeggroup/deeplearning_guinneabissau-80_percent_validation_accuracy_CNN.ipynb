{
 "cells": [
  {
   "cell_type": "markdown",
   "metadata": {},
   "source": [
    "# EEG data classification Guinnea Bissau"
   ]
  },
  {
   "cell_type": "markdown",
   "metadata": {},
   "source": [
    "This notebook contains experiments with an EEG dataset. The classes are Epilepsy: 0 or Control 1."
   ]
  },
  {
   "cell_type": "markdown",
   "metadata": {
    "collapsed": false
   },
   "source": [
    "Load dependences and setting output configuration"
   ]
  },
  {
   "cell_type": "code",
   "execution_count": 1,
   "metadata": {
    "collapsed": false
   },
   "outputs": [
    {
     "name": "stderr",
     "output_type": "stream",
     "text": [
      "Using Theano backend.\n"
     ]
    },
    {
     "name": "stdout",
     "output_type": "stream",
     "text": [
      "Populating the interactive namespace from numpy and matplotlib\n"
     ]
    }
   ],
   "source": [
    "import numpy as np\n",
    "from keras.utils.np_utils import to_categorical\n",
    "import keras\n",
    "%pylab inline\n",
    "%load_ext autoreload\n",
    "%autoreload 2"
   ]
  },
  {
   "cell_type": "markdown",
   "metadata": {},
   "source": [
    "## Load data from npy files"
   ]
  },
  {
   "cell_type": "markdown",
   "metadata": {},
   "source": [
    "Specify location of npy files:"
   ]
  },
  {
   "cell_type": "code",
   "execution_count": 2,
   "metadata": {
    "collapsed": true
   },
   "outputs": [],
   "source": [
    "datapath = '/home/sonja/EEGs_Guinea-Bissau_np/'\n",
    "#datapath = '/media/sf_VBox_Shared/timeseries/EEGs_Guinea-Bissau_np/'#"
   ]
  },
  {
   "cell_type": "markdown",
   "metadata": {},
   "source": [
    "Load data stored in 10 seconds at 128 Hertz corresponding to the experiment where the participant had the eyes closed:"
   ]
  },
  {
   "cell_type": "code",
   "execution_count": 42,
   "metadata": {
    "collapsed": false
   },
   "outputs": [],
   "source": [
    "condition = '_10seconds_closed.npy'\n",
    "X_train = np.load(datapath+'X_train'+condition)\n",
    "y_train = np.load(datapath+'y_train'+condition)\n",
    "X_val = np.load(datapath+'X_valid'+condition)\n",
    "y_val = np.load(datapath+'y_valid'+condition)\n",
    "X_test = np.load(datapath+'X_test'+condition)\n",
    "y_test = np.load(datapath+'y_test'+condition)"
   ]
  },
  {
   "cell_type": "code",
   "execution_count": 43,
   "metadata": {
    "collapsed": false
   },
   "outputs": [
    {
     "name": "stdout",
     "output_type": "stream",
     "text": [
      "[[[ 4184.1025641   3924.1025641   4216.92307692 ...,  4030.25641026\n",
      "    3809.74358974  3867.17948718]\n",
      "  [ 4180.51282051  3913.33333333  4213.33333333 ...,  4021.53846154\n",
      "    3801.02564103  3858.97435897]\n",
      "  [ 4181.02564103  3915.38461538  4216.41025641 ...,  4023.07692308\n",
      "    3799.48717949  3860.        ]\n",
      "  ..., \n",
      "  [ 4266.66666667  3867.69230769  4250.76923077 ...,  4061.53846154\n",
      "    3802.56410256  3911.79487179]\n",
      "  [ 4265.64102564  3876.92307692  4249.23076923 ...,  4061.02564103\n",
      "    3800.51282051  3911.79487179]\n",
      "  [ 4268.71794872  3878.97435897  4250.25641026 ...,  4062.05128205  3800.\n",
      "    3912.30769231]]\n",
      "\n",
      " [[ 4352.82051282  3938.97435897  4187.69230769 ...,  4175.8974359\n",
      "    3862.56410256  3964.1025641 ]\n",
      "  [ 4347.69230769  3928.71794872  4185.12820513 ...,  4163.07692308\n",
      "    3861.02564103  3953.84615385]\n",
      "  [ 4353.84615385  3923.58974359  4197.43589744 ...,  4153.33333333\n",
      "    3863.07692308  3945.64102564]\n",
      "  ..., \n",
      "  [ 4188.20512821  3933.84615385  4209.74358974 ...,  4172.30769231\n",
      "    3828.20512821  3976.92307692]\n",
      "  [ 4183.58974359  3934.35897436  4207.17948718 ...,  4166.66666667\n",
      "    3831.79487179  3974.35897436]\n",
      "  [ 4171.28205128  3924.61538462  4201.02564103 ...,  4158.46153846\n",
      "    3831.79487179  3962.05128205]]\n",
      "\n",
      " [[ 4155.38461538  3865.64102564  4187.69230769 ...,  4140.          3838.46153846\n",
      "    3941.02564103]\n",
      "  [ 4133.84615385  3844.61538462  4167.17948718 ...,  4117.43589744\n",
      "    3823.07692308  3910.25641026]\n",
      "  [ 4124.1025641   3841.53846154  4161.02564103 ...,  4103.58974359\n",
      "    3812.82051282  3896.92307692]\n",
      "  ..., \n",
      "  [ 4259.48717949  3907.69230769  4217.94871795 ...,  4108.20512821\n",
      "    3853.84615385  3928.20512821]\n",
      "  [ 4249.23076923  3899.48717949  4215.38461538 ...,  4105.64102564\n",
      "    3847.69230769  3930.25641026]\n",
      "  [ 4244.61538462  3892.30769231  4205.64102564 ...,  4102.05128205\n",
      "    3848.71794872  3930.25641026]]\n",
      "\n",
      " ..., \n",
      " [[ 4167.17948718  3953.84615385  4293.33333333 ...,  4296.41025641\n",
      "    3971.79487179  3987.69230769]\n",
      "  [ 4159.48717949  3948.71794872  4293.84615385 ...,  4291.79487179\n",
      "    3971.28205128  3984.61538462]\n",
      "  [ 4151.28205128  3939.48717949  4289.74358974 ...,  4277.43589744\n",
      "    3970.25641026  3971.28205128]\n",
      "  ..., \n",
      "  [ 4266.66666667  3554.87179487  4309.23076923 ...,  4248.20512821\n",
      "    3927.69230769  3983.58974359]\n",
      "  [ 4268.20512821  3553.33333333  4316.41025641 ...,  4241.53846154\n",
      "    3927.69230769  3978.46153846]\n",
      "  [ 4257.94871795  3538.46153846  4308.20512821 ...,  4219.48717949\n",
      "    3925.64102564  3956.41025641]]\n",
      "\n",
      " [[ 4295.8974359   3846.15384615  4327.17948718 ...,  4443.07692308\n",
      "    3919.48717949  4157.43589744]\n",
      "  [ 4292.82051282  3844.61538462  4323.58974359 ...,  4431.28205128\n",
      "    3909.74358974  4154.87179487]\n",
      "  [ 4292.82051282  3849.23076923  4325.12820513 ...,  4426.15384615\n",
      "    3911.28205128  4150.76923077]\n",
      "  ..., \n",
      "  [ 4287.17948718  3913.84615385  4303.07692308 ...,  4187.17948718\n",
      "    3925.64102564  4160.51282051]\n",
      "  [ 4295.8974359   3933.33333333  4314.35897436 ...,  4198.46153846\n",
      "    3923.07692308  4171.79487179]\n",
      "  [ 4305.12820513  3940.51282051  4320.51282051 ...,  4207.69230769\n",
      "    3922.56410256  4184.1025641 ]]\n",
      "\n",
      " [[ 4356.92307692  4100.51282051  4315.38461538 ...,  4096.92307692\n",
      "    4046.15384615  4200.51282051]\n",
      "  [ 4357.43589744  4106.15384615  4322.05128205 ...,  4106.15384615\n",
      "    4045.64102564  4200.        ]\n",
      "  [ 4359.48717949  4108.20512821  4327.69230769 ...,  4105.12820513\n",
      "    4046.66666667  4201.02564103]\n",
      "  ..., \n",
      "  [ 4142.05128205  4028.20512821  4123.07692308 ...,  4169.74358974\n",
      "    3815.38461538  3986.66666667]\n",
      "  [ 4136.41025641  4020.51282051  4114.87179487 ...,  4166.15384615\n",
      "    3814.87179487  3984.1025641 ]\n",
      "  [ 4133.84615385  4016.92307692  4105.64102564 ...,  4167.69230769\n",
      "    3815.38461538  3976.41025641]]]\n"
     ]
    }
   ],
   "source": [
    "print(X_train)"
   ]
  },
  {
   "cell_type": "code",
   "execution_count": 11,
   "metadata": {
    "collapsed": false
   },
   "outputs": [],
   "source": [
    "# rather than the original time-series, use the jumps. Makes the time-series stationary\n",
    "# X is a time-series of n(=14) channels\n",
    "def differences(X):\n",
    "    dim1 = len(X)-1\n",
    "    dim2 = len(X[0])\n",
    "    M = np.zeros((dim1, dim2))\n",
    "    #M = X\n",
    "    for i in range(0, dim1-1):\n",
    "        for j in range (0,dim2-1):\n",
    "            M[i][j] = X[i+1][j] - X[i][j]\n",
    "    return M            \n",
    "            "
   ]
  },
  {
   "cell_type": "code",
   "execution_count": null,
   "metadata": {
    "collapsed": false
   },
   "outputs": [],
   "source": [
    "differences(X_train[0])"
   ]
  },
  {
   "cell_type": "code",
   "execution_count": 13,
   "metadata": {
    "collapsed": false
   },
   "outputs": [],
   "source": [
    "# substracts m from the whole dataset\n",
    "def substract_mean(X,m):\n",
    "    image = []\n",
    "    for i in range (0, len(X -1)):\n",
    "        X[i]-=m        \n",
    "        image.append(X[i])\n",
    "    return np.array(image) "
   ]
  },
  {
   "cell_type": "code",
   "execution_count": 30,
   "metadata": {
    "collapsed": false
   },
   "outputs": [],
   "source": [
    "# converts the whole dataset X by applying diffenences function to individuals\n",
    "def convertDataset(X):\n",
    "    image = []\n",
    "    for i in range (0, len(X -1)):\n",
    "        tr = differences(X[i])\n",
    "        image.append(tr)\n",
    "    return np.array(image)    \n",
    "    "
   ]
  },
  {
   "cell_type": "code",
   "execution_count": 31,
   "metadata": {
    "collapsed": true
   },
   "outputs": [],
   "source": [
    "# transposes the dataset of each individual\n",
    "def transposeDataset(X):\n",
    "    image = []\n",
    "    for i in range (0, len(X -1)):\n",
    "        tr = X[i].transpose()\n",
    "        image.append(tr)\n",
    "    return np.array(image)"
   ]
  },
  {
   "cell_type": "code",
   "execution_count": 44,
   "metadata": {
    "collapsed": true
   },
   "outputs": [],
   "source": [
    "m = np.mean(X_train)\n",
    "image1 = substract_mean(X_train,m)\n",
    "image2 = substract_mean(X_val,m)\n",
    "image3 = substract_mean(X_test,m)\n",
    "X_train = image1\n",
    "X_val = image2\n",
    "X_test = image3"
   ]
  },
  {
   "cell_type": "code",
   "execution_count": 45,
   "metadata": {
    "collapsed": false
   },
   "outputs": [],
   "source": [
    "image1 = convertDataset(X_train)\n",
    "image2 = convertDataset(X_val)\n",
    "image3 = convertDataset(X_test)\n",
    "X_train = image1\n",
    "X_val = image2\n",
    "X_test = image3"
   ]
  },
  {
   "cell_type": "code",
   "execution_count": 46,
   "metadata": {
    "collapsed": true
   },
   "outputs": [],
   "source": [
    "image1 = transposeDataset(X_train)\n",
    "image2 = transposeDataset(X_val)\n",
    "image3 = transposeDataset(X_test)\n",
    "X_train = image1\n",
    "X_val = image2\n",
    "X_test = image3"
   ]
  },
  {
   "cell_type": "code",
   "execution_count": 47,
   "metadata": {
    "collapsed": false
   },
   "outputs": [
    {
     "name": "stdout",
     "output_type": "stream",
     "text": [
      "[[ -5.12820513   6.15384615   4.1025641  ...,   7.17948718  -4.61538462\n",
      "    0.        ]\n",
      " [-10.25641026  -5.12820513   2.05128205 ...,   9.74358974   0.51282051\n",
      "    0.        ]\n",
      " [ -2.56410256  12.30769231   7.17948718 ...,   5.12820513  -2.56410256\n",
      "    0.        ]\n",
      " ..., \n",
      " [-12.82051282  -9.74358974  -3.58974359 ...,   8.71794872  -5.64102564\n",
      "    0.        ]\n",
      " [ -1.53846154   2.05128205   0.51282051 ...,   2.05128205   3.58974359\n",
      "    0.        ]\n",
      " [  0.           0.           0.         ...,   0.           0.           0.        ]]\n"
     ]
    }
   ],
   "source": [
    "print(X_train[1])"
   ]
  },
  {
   "cell_type": "code",
   "execution_count": 18,
   "metadata": {
    "collapsed": false
   },
   "outputs": [
    {
     "name": "stdout",
     "output_type": "stream",
     "text": [
      "{'Epilepsy': 0, 'Control': 1}\n"
     ]
    }
   ],
   "source": [
    "classlabels = list(set(y_train))\n",
    "mapclasses = {classlabels[i] : i for i in range(len(classlabels))}\n",
    "print(mapclasses)"
   ]
  },
  {
   "cell_type": "code",
   "execution_count": 19,
   "metadata": {
    "collapsed": false
   },
   "outputs": [],
   "source": [
    "y_train = np.array([mapclasses[c] for c in y_train], dtype='int')\n",
    "y_val = np.array([mapclasses[c] for c in y_test], dtype='int')\n",
    "y_test = np.array([mapclasses[c] for c in y_test], dtype='int')\n",
    "y_train_binary = to_categorical(y_train)\n",
    "y_val_binary = to_categorical(y_val)\n",
    "y_test_binary = to_categorical(y_test)"
   ]
  },
  {
   "cell_type": "code",
   "execution_count": 20,
   "metadata": {
    "collapsed": false
   },
   "outputs": [
    {
     "data": {
      "text/plain": [
       "array([[ 1.,  0.],\n",
       "       [ 1.,  0.],\n",
       "       [ 1.,  0.],\n",
       "       [ 0.,  1.],\n",
       "       [ 1.,  0.],\n",
       "       [ 1.,  0.],\n",
       "       [ 1.,  0.],\n",
       "       [ 0.,  1.],\n",
       "       [ 0.,  1.],\n",
       "       [ 1.,  0.],\n",
       "       [ 1.,  0.],\n",
       "       [ 1.,  0.],\n",
       "       [ 1.,  0.],\n",
       "       [ 1.,  0.],\n",
       "       [ 0.,  1.],\n",
       "       [ 0.,  1.],\n",
       "       [ 0.,  1.],\n",
       "       [ 0.,  1.],\n",
       "       [ 0.,  1.],\n",
       "       [ 0.,  1.]])"
      ]
     },
     "execution_count": 20,
     "metadata": {},
     "output_type": "execute_result"
    }
   ],
   "source": [
    "y_val_binary"
   ]
  },
  {
   "cell_type": "markdown",
   "metadata": {},
   "source": [
    "## Generate models"
   ]
  },
  {
   "cell_type": "code",
   "execution_count": 21,
   "metadata": {
    "collapsed": true
   },
   "outputs": [],
   "source": [
    "from keras.models import Sequential\n",
    "from keras.layers import Dense, Activation, Convolution1D, Flatten, MaxPooling1D\n",
    "from keras.optimizers import Adam\n",
    "import sys\n",
    "import os\n",
    "import numpy as np\n",
    "sys.path.insert(0, os.path.abspath('..'))\n",
    "from mcfly import modelgen, find_architecture"
   ]
  },
  {
   "cell_type": "code",
   "execution_count": 22,
   "metadata": {
    "collapsed": true
   },
   "outputs": [],
   "source": [
    "np.random.seed = 321\n",
    "num_classes = y_train_binary.shape[1]"
   ]
  },
  {
   "cell_type": "code",
   "execution_count": 54,
   "metadata": {
    "collapsed": false
   },
   "outputs": [
    {
     "name": "stdout",
     "output_type": "stream",
     "text": [
      "CPU times: user 960 ms, sys: 0 ns, total: 960 ms\n",
      "Wall time: 1.24 s\n"
     ]
    }
   ],
   "source": [
    "%%time\n",
    "models = modelgen.generate_models(X_train.shape,\n",
    "                                  num_classes,\n",
    "                                  number_of_models = 5,\n",
    "                                  model_type = 'CNN',\n",
    "                                  cnn_min_layers=2,\n",
    "                                  cnn_max_layers=4,\n",
    "                                 low_lr=2, high_lr=8)"
   ]
  },
  {
   "cell_type": "code",
   "execution_count": 56,
   "metadata": {
    "collapsed": false
   },
   "outputs": [
    {
     "name": "stdout",
     "output_type": "stream",
     "text": [
      "{'learning_rate': 0.0018468900521431515, 'regularization_rate': 0.013332580745925337, 'fc_hidden_nodes': 1734, 'filters': array([79, 15])}\n",
      "____________________________________________________________________________________________________\n",
      "Layer (type)                       Output Shape        Param #     Connected to                     \n",
      "====================================================================================================\n",
      "batchnormalization_81 (BatchNormali(None, 14, 1279)    2558        batchnormalization_input_16[0][0]\n",
      "____________________________________________________________________________________________________\n",
      "convolution1d_51 (Convolution1D)   (None, 14, 79)      303202      batchnormalization_81[0][0]      \n",
      "____________________________________________________________________________________________________\n",
      "batchnormalization_82 (BatchNormali(None, 14, 79)      158         convolution1d_51[0][0]           \n",
      "____________________________________________________________________________________________________\n",
      "activation_81 (Activation)         (None, 14, 79)      0           batchnormalization_82[0][0]      \n",
      "____________________________________________________________________________________________________\n",
      "convolution1d_52 (Convolution1D)   (None, 14, 15)      3570        activation_81[0][0]              \n",
      "____________________________________________________________________________________________________\n",
      "batchnormalization_83 (BatchNormali(None, 14, 15)      30          convolution1d_52[0][0]           \n",
      "____________________________________________________________________________________________________\n",
      "activation_82 (Activation)         (None, 14, 15)      0           batchnormalization_83[0][0]      \n",
      "____________________________________________________________________________________________________\n",
      "flatten_16 (Flatten)               (None, 210)         0           activation_82[0][0]              \n",
      "____________________________________________________________________________________________________\n",
      "dense_31 (Dense)                   (None, 1734)        365874      flatten_16[0][0]                 \n",
      "____________________________________________________________________________________________________\n",
      "activation_83 (Activation)         (None, 1734)        0           dense_31[0][0]                   \n",
      "____________________________________________________________________________________________________\n",
      "dense_32 (Dense)                   (None, 2)           3470        activation_83[0][0]              \n",
      "____________________________________________________________________________________________________\n",
      "batchnormalization_84 (BatchNormali(None, 2)           4           dense_32[0][0]                   \n",
      "____________________________________________________________________________________________________\n",
      "activation_84 (Activation)         (None, 2)           0           batchnormalization_84[0][0]      \n",
      "====================================================================================================\n",
      "Total params: 678866\n",
      "____________________________________________________________________________________________________\n",
      "{'learning_rate': 3.395778484393732e-05, 'regularization_rate': 0.0002950975001636072, 'fc_hidden_nodes': 414, 'filters': array([63, 10, 23, 58])}\n",
      "____________________________________________________________________________________________________\n",
      "Layer (type)                       Output Shape        Param #     Connected to                     \n",
      "====================================================================================================\n",
      "batchnormalization_85 (BatchNormali(None, 14, 1279)    2558        batchnormalization_input_17[0][0]\n",
      "____________________________________________________________________________________________________\n",
      "convolution1d_53 (Convolution1D)   (None, 14, 63)      241794      batchnormalization_85[0][0]      \n",
      "____________________________________________________________________________________________________\n",
      "batchnormalization_86 (BatchNormali(None, 14, 63)      126         convolution1d_53[0][0]           \n",
      "____________________________________________________________________________________________________\n",
      "activation_85 (Activation)         (None, 14, 63)      0           batchnormalization_86[0][0]      \n",
      "____________________________________________________________________________________________________\n",
      "convolution1d_54 (Convolution1D)   (None, 14, 10)      1900        activation_85[0][0]              \n",
      "____________________________________________________________________________________________________\n",
      "batchnormalization_87 (BatchNormali(None, 14, 10)      20          convolution1d_54[0][0]           \n",
      "____________________________________________________________________________________________________\n",
      "activation_86 (Activation)         (None, 14, 10)      0           batchnormalization_87[0][0]      \n",
      "____________________________________________________________________________________________________\n",
      "convolution1d_55 (Convolution1D)   (None, 14, 23)      713         activation_86[0][0]              \n",
      "____________________________________________________________________________________________________\n",
      "batchnormalization_88 (BatchNormali(None, 14, 23)      46          convolution1d_55[0][0]           \n",
      "____________________________________________________________________________________________________\n",
      "activation_87 (Activation)         (None, 14, 23)      0           batchnormalization_88[0][0]      \n",
      "____________________________________________________________________________________________________\n",
      "convolution1d_56 (Convolution1D)   (None, 14, 58)      4060        activation_87[0][0]              \n",
      "____________________________________________________________________________________________________\n",
      "batchnormalization_89 (BatchNormali(None, 14, 58)      116         convolution1d_56[0][0]           \n",
      "____________________________________________________________________________________________________\n",
      "activation_88 (Activation)         (None, 14, 58)      0           batchnormalization_89[0][0]      \n",
      "____________________________________________________________________________________________________\n",
      "flatten_17 (Flatten)               (None, 812)         0           activation_88[0][0]              \n",
      "____________________________________________________________________________________________________\n",
      "dense_33 (Dense)                   (None, 414)         336582      flatten_17[0][0]                 \n",
      "____________________________________________________________________________________________________\n",
      "activation_89 (Activation)         (None, 414)         0           dense_33[0][0]                   \n",
      "____________________________________________________________________________________________________\n",
      "dense_34 (Dense)                   (None, 2)           830         activation_89[0][0]              \n",
      "____________________________________________________________________________________________________\n",
      "batchnormalization_90 (BatchNormali(None, 2)           4           dense_34[0][0]                   \n",
      "____________________________________________________________________________________________________\n",
      "activation_90 (Activation)         (None, 2)           0           batchnormalization_90[0][0]      \n",
      "====================================================================================================\n",
      "Total params: 588749\n",
      "____________________________________________________________________________________________________\n",
      "{'learning_rate': 0.000158363000012797, 'regularization_rate': 0.0008124655568593805, 'fc_hidden_nodes': 1232, 'filters': array([14, 52])}\n",
      "____________________________________________________________________________________________________\n",
      "Layer (type)                       Output Shape        Param #     Connected to                     \n",
      "====================================================================================================\n",
      "batchnormalization_91 (BatchNormali(None, 14, 1279)    2558        batchnormalization_input_18[0][0]\n",
      "____________________________________________________________________________________________________\n",
      "convolution1d_57 (Convolution1D)   (None, 14, 14)      53732       batchnormalization_91[0][0]      \n",
      "____________________________________________________________________________________________________\n",
      "batchnormalization_92 (BatchNormali(None, 14, 14)      28          convolution1d_57[0][0]           \n",
      "____________________________________________________________________________________________________\n",
      "activation_91 (Activation)         (None, 14, 14)      0           batchnormalization_92[0][0]      \n",
      "____________________________________________________________________________________________________\n",
      "convolution1d_58 (Convolution1D)   (None, 14, 52)      2236        activation_91[0][0]              \n",
      "____________________________________________________________________________________________________\n",
      "batchnormalization_93 (BatchNormali(None, 14, 52)      104         convolution1d_58[0][0]           \n",
      "____________________________________________________________________________________________________\n",
      "activation_92 (Activation)         (None, 14, 52)      0           batchnormalization_93[0][0]      \n",
      "____________________________________________________________________________________________________\n",
      "flatten_18 (Flatten)               (None, 728)         0           activation_92[0][0]              \n",
      "____________________________________________________________________________________________________\n",
      "dense_35 (Dense)                   (None, 1232)        898128      flatten_18[0][0]                 \n",
      "____________________________________________________________________________________________________\n",
      "activation_93 (Activation)         (None, 1232)        0           dense_35[0][0]                   \n",
      "____________________________________________________________________________________________________\n",
      "dense_36 (Dense)                   (None, 2)           2466        activation_93[0][0]              \n",
      "____________________________________________________________________________________________________\n",
      "batchnormalization_94 (BatchNormali(None, 2)           4           dense_36[0][0]                   \n",
      "____________________________________________________________________________________________________\n",
      "activation_94 (Activation)         (None, 2)           0           batchnormalization_94[0][0]      \n",
      "====================================================================================================\n",
      "Total params: 959256\n",
      "____________________________________________________________________________________________________\n",
      "{'learning_rate': 0.0028634259195177585, 'regularization_rate': 0.011873628234137009, 'fc_hidden_nodes': 1941, 'filters': array([19, 95])}\n",
      "____________________________________________________________________________________________________\n",
      "Layer (type)                       Output Shape        Param #     Connected to                     \n",
      "====================================================================================================\n",
      "batchnormalization_95 (BatchNormali(None, 14, 1279)    2558        batchnormalization_input_19[0][0]\n",
      "____________________________________________________________________________________________________\n",
      "convolution1d_59 (Convolution1D)   (None, 14, 19)      72922       batchnormalization_95[0][0]      \n",
      "____________________________________________________________________________________________________\n",
      "batchnormalization_96 (BatchNormali(None, 14, 19)      38          convolution1d_59[0][0]           \n",
      "____________________________________________________________________________________________________\n",
      "activation_95 (Activation)         (None, 14, 19)      0           batchnormalization_96[0][0]      \n",
      "____________________________________________________________________________________________________\n",
      "convolution1d_60 (Convolution1D)   (None, 14, 95)      5510        activation_95[0][0]              \n",
      "____________________________________________________________________________________________________\n",
      "batchnormalization_97 (BatchNormali(None, 14, 95)      190         convolution1d_60[0][0]           \n",
      "____________________________________________________________________________________________________\n",
      "activation_96 (Activation)         (None, 14, 95)      0           batchnormalization_97[0][0]      \n",
      "____________________________________________________________________________________________________\n",
      "flatten_19 (Flatten)               (None, 1330)        0           activation_96[0][0]              \n",
      "____________________________________________________________________________________________________\n",
      "dense_37 (Dense)                   (None, 1941)        2583471     flatten_19[0][0]                 \n",
      "____________________________________________________________________________________________________\n",
      "activation_97 (Activation)         (None, 1941)        0           dense_37[0][0]                   \n",
      "____________________________________________________________________________________________________\n",
      "dense_38 (Dense)                   (None, 2)           3884        activation_97[0][0]              \n",
      "____________________________________________________________________________________________________\n",
      "batchnormalization_98 (BatchNormali(None, 2)           4           dense_38[0][0]                   \n",
      "____________________________________________________________________________________________________\n",
      "activation_98 (Activation)         (None, 2)           0           batchnormalization_98[0][0]      \n",
      "====================================================================================================\n",
      "Total params: 2668577\n",
      "____________________________________________________________________________________________________\n",
      "{'learning_rate': 2.050125425883889e-06, 'regularization_rate': 0.0005579582219998835, 'fc_hidden_nodes': 1997, 'filters': array([25, 77, 61])}\n",
      "____________________________________________________________________________________________________\n",
      "Layer (type)                       Output Shape        Param #     Connected to                     \n",
      "====================================================================================================\n",
      "batchnormalization_99 (BatchNormali(None, 14, 1279)    2558        batchnormalization_input_20[0][0]\n",
      "____________________________________________________________________________________________________\n",
      "convolution1d_61 (Convolution1D)   (None, 14, 25)      95950       batchnormalization_99[0][0]      \n",
      "____________________________________________________________________________________________________\n",
      "batchnormalization_100 (BatchNormal(None, 14, 25)      50          convolution1d_61[0][0]           \n",
      "____________________________________________________________________________________________________\n",
      "activation_99 (Activation)         (None, 14, 25)      0           batchnormalization_100[0][0]     \n",
      "____________________________________________________________________________________________________\n",
      "convolution1d_62 (Convolution1D)   (None, 14, 77)      5852        activation_99[0][0]              \n",
      "____________________________________________________________________________________________________\n",
      "batchnormalization_101 (BatchNormal(None, 14, 77)      154         convolution1d_62[0][0]           \n",
      "____________________________________________________________________________________________________\n",
      "activation_100 (Activation)        (None, 14, 77)      0           batchnormalization_101[0][0]     \n",
      "____________________________________________________________________________________________________\n",
      "convolution1d_63 (Convolution1D)   (None, 14, 61)      14152       activation_100[0][0]             \n",
      "____________________________________________________________________________________________________\n",
      "batchnormalization_102 (BatchNormal(None, 14, 61)      122         convolution1d_63[0][0]           \n",
      "____________________________________________________________________________________________________\n",
      "activation_101 (Activation)        (None, 14, 61)      0           batchnormalization_102[0][0]     \n",
      "____________________________________________________________________________________________________\n",
      "flatten_20 (Flatten)               (None, 854)         0           activation_101[0][0]             \n",
      "____________________________________________________________________________________________________\n",
      "dense_39 (Dense)                   (None, 1997)        1707435     flatten_20[0][0]                 \n",
      "____________________________________________________________________________________________________\n",
      "activation_102 (Activation)        (None, 1997)        0           dense_39[0][0]                   \n",
      "____________________________________________________________________________________________________\n",
      "dense_40 (Dense)                   (None, 2)           3996        activation_102[0][0]             \n",
      "____________________________________________________________________________________________________\n",
      "batchnormalization_103 (BatchNormal(None, 2)           4           dense_40[0][0]                   \n",
      "____________________________________________________________________________________________________\n",
      "activation_103 (Activation)        (None, 2)           0           batchnormalization_103[0][0]     \n",
      "====================================================================================================\n",
      "Total params: 1830273\n",
      "____________________________________________________________________________________________________\n",
      "CPU times: user 2.41 s, sys: 28 ms, total: 2.44 s\n",
      "Wall time: 4.08 s\n"
     ]
    }
   ],
   "source": [
    "%%time\n",
    "for model, params, model_types in models:\n",
    "    print(params)\n",
    "    model.summary()"
   ]
  },
  {
   "cell_type": "markdown",
   "metadata": {},
   "source": [
    "## Compare models"
   ]
  },
  {
   "cell_type": "markdown",
   "metadata": {},
   "source": [
    "Currently run with a very low number of epochs"
   ]
  },
  {
   "cell_type": "code",
   "execution_count": 55,
   "metadata": {
    "collapsed": false,
    "scrolled": true
   },
   "outputs": [
    {
     "name": "stdout",
     "output_type": "stream",
     "text": [
      "Training model 0 CNN\n",
      "Train on 108 samples, validate on 20 samples\n",
      "Epoch 1/15\n",
      "108/108 [==============================] - 0s - loss: 24.0027 - acc: 0.4537 - val_loss: 1.7179 - val_acc: 0.4000\n",
      "Epoch 2/15\n",
      "108/108 [==============================] - 0s - loss: 20.2835 - acc: 0.8611 - val_loss: 1.0840 - val_acc: 0.4000\n",
      "Epoch 3/15\n",
      "108/108 [==============================] - 0s - loss: 16.8971 - acc: 0.9259 - val_loss: 0.9167 - val_acc: 0.3000\n",
      "Epoch 4/15\n",
      "108/108 [==============================] - 1s - loss: 13.7490 - acc: 0.9722 - val_loss: 0.8416 - val_acc: 0.3500\n",
      "Epoch 5/15\n",
      "108/108 [==============================] - 0s - loss: 11.0314 - acc: 0.9537 - val_loss: 0.8185 - val_acc: 0.2500\n",
      "Epoch 6/15\n",
      "108/108 [==============================] - 0s - loss: 8.7693 - acc: 0.9815 - val_loss: 0.7938 - val_acc: 0.3000\n",
      "Epoch 7/15\n",
      "108/108 [==============================] - 0s - loss: 6.9296 - acc: 1.0000 - val_loss: 0.7786 - val_acc: 0.3500\n",
      "Epoch 8/15\n",
      "108/108 [==============================] - 0s - loss: 5.5116 - acc: 1.0000 - val_loss: 0.7804 - val_acc: 0.3500\n",
      "Epoch 9/15\n",
      "108/108 [==============================] - 0s - loss: 4.3932 - acc: 1.0000 - val_loss: 0.7823 - val_acc: 0.3500\n",
      "Epoch 10/15\n",
      "108/108 [==============================] - 0s - loss: 3.5395 - acc: 1.0000 - val_loss: 0.7819 - val_acc: 0.4000\n",
      "Epoch 11/15\n",
      "108/108 [==============================] - 0s - loss: 2.8550 - acc: 1.0000 - val_loss: 0.7911 - val_acc: 0.2500\n",
      "Epoch 12/15\n",
      "108/108 [==============================] - 0s - loss: 2.3412 - acc: 1.0000 - val_loss: 0.7958 - val_acc: 0.2000\n",
      "Epoch 13/15\n",
      "108/108 [==============================] - 0s - loss: 1.9537 - acc: 1.0000 - val_loss: 0.8077 - val_acc: 0.2500\n",
      "Epoch 14/15\n",
      "108/108 [==============================] - 0s - loss: 1.6657 - acc: 0.9907 - val_loss: 0.8552 - val_acc: 0.3000\n",
      "Epoch 15/15\n",
      "108/108 [==============================] - 0s - loss: 1.4229 - acc: 1.0000 - val_loss: 0.9002 - val_acc: 0.3500\n",
      "Training model 1 CNN\n",
      "Train on 108 samples, validate on 20 samples\n",
      "Epoch 1/15\n",
      "108/108 [==============================] - 0s - loss: 1.0400 - acc: 0.5556 - val_loss: 0.7040 - val_acc: 0.6500\n",
      "Epoch 2/15\n",
      "108/108 [==============================] - 0s - loss: 0.8120 - acc: 0.6389 - val_loss: 0.7278 - val_acc: 0.7000\n",
      "Epoch 3/15\n",
      "108/108 [==============================] - 0s - loss: 0.6864 - acc: 0.7593 - val_loss: 0.7238 - val_acc: 0.7500\n",
      "Epoch 4/15\n",
      "108/108 [==============================] - 0s - loss: 0.6310 - acc: 0.8519 - val_loss: 0.7193 - val_acc: 0.7500\n",
      "Epoch 5/15\n",
      "108/108 [==============================] - 0s - loss: 0.5726 - acc: 0.8426 - val_loss: 0.7369 - val_acc: 0.7500\n",
      "Epoch 6/15\n",
      "108/108 [==============================] - 0s - loss: 0.5238 - acc: 0.9352 - val_loss: 0.7407 - val_acc: 0.7000\n",
      "Epoch 7/15\n",
      "108/108 [==============================] - 0s - loss: 0.4569 - acc: 0.9630 - val_loss: 0.7477 - val_acc: 0.7000\n",
      "Epoch 8/15\n",
      "108/108 [==============================] - 0s - loss: 0.4743 - acc: 0.8981 - val_loss: 0.8588 - val_acc: 0.6500\n",
      "Epoch 9/15\n",
      "108/108 [==============================] - 0s - loss: 0.4397 - acc: 0.9537 - val_loss: 0.9638 - val_acc: 0.6500\n",
      "Epoch 10/15\n",
      "108/108 [==============================] - 0s - loss: 0.4160 - acc: 0.9722 - val_loss: 1.0416 - val_acc: 0.6000\n",
      "Epoch 11/15\n",
      "108/108 [==============================] - 0s - loss: 0.3962 - acc: 0.9907 - val_loss: 1.0331 - val_acc: 0.6000\n",
      "Epoch 12/15\n",
      "108/108 [==============================] - 0s - loss: 0.3876 - acc: 0.9907 - val_loss: 1.0038 - val_acc: 0.6000\n",
      "Epoch 13/15\n",
      "108/108 [==============================] - 0s - loss: 0.3812 - acc: 0.9907 - val_loss: 0.9639 - val_acc: 0.6000\n",
      "Epoch 14/15\n",
      "108/108 [==============================] - 0s - loss: 0.3590 - acc: 1.0000 - val_loss: 0.9532 - val_acc: 0.6000\n",
      "Epoch 15/15\n",
      "108/108 [==============================] - 0s - loss: 0.3960 - acc: 0.9907 - val_loss: 0.8990 - val_acc: 0.6000\n",
      "Training model 2 CNN\n",
      "Train on 108 samples, validate on 20 samples\n",
      "Epoch 1/15\n",
      "108/108 [==============================] - 0s - loss: 1.8436 - acc: 0.4815 - val_loss: 0.5268 - val_acc: 0.8000\n",
      "Epoch 2/15\n",
      "108/108 [==============================] - 0s - loss: 1.5145 - acc: 0.8333 - val_loss: 0.5764 - val_acc: 0.8000\n",
      "Epoch 3/15\n",
      "108/108 [==============================] - 0s - loss: 1.4096 - acc: 0.9630 - val_loss: 0.5643 - val_acc: 0.7500\n",
      "Epoch 4/15\n",
      "108/108 [==============================] - 0s - loss: 1.3506 - acc: 0.9722 - val_loss: 0.5411 - val_acc: 0.7500\n",
      "Epoch 5/15\n",
      "108/108 [==============================] - 0s - loss: 1.3233 - acc: 0.9907 - val_loss: 0.5398 - val_acc: 0.8000\n",
      "Epoch 6/15\n",
      "108/108 [==============================] - 0s - loss: 1.2582 - acc: 1.0000 - val_loss: 0.5320 - val_acc: 0.8000\n",
      "Epoch 7/15\n",
      "108/108 [==============================] - 0s - loss: 1.2402 - acc: 0.9907 - val_loss: 0.5312 - val_acc: 0.8000\n",
      "Epoch 8/15\n",
      "108/108 [==============================] - 0s - loss: 1.2421 - acc: 0.9907 - val_loss: 0.5409 - val_acc: 0.8000\n",
      "Epoch 9/15\n",
      "108/108 [==============================] - 0s - loss: 1.2200 - acc: 0.9907 - val_loss: 0.5336 - val_acc: 0.8000\n",
      "Epoch 10/15\n",
      "108/108 [==============================] - 0s - loss: 1.1912 - acc: 1.0000 - val_loss: 0.5369 - val_acc: 0.7500\n",
      "Epoch 11/15\n",
      "108/108 [==============================] - 0s - loss: 1.2115 - acc: 0.9907 - val_loss: 0.5295 - val_acc: 0.8000\n",
      "Epoch 12/15\n",
      "108/108 [==============================] - 0s - loss: 1.1801 - acc: 1.0000 - val_loss: 0.5309 - val_acc: 0.8000\n",
      "Epoch 13/15\n",
      "108/108 [==============================] - 0s - loss: 1.1912 - acc: 1.0000 - val_loss: 0.5404 - val_acc: 0.8000\n",
      "Epoch 14/15\n",
      "108/108 [==============================] - 0s - loss: 1.1878 - acc: 1.0000 - val_loss: 0.5288 - val_acc: 0.7500\n",
      "Epoch 15/15\n",
      "108/108 [==============================] - 0s - loss: 1.1761 - acc: 1.0000 - val_loss: 0.5305 - val_acc: 0.8000\n",
      "Training model 3 CNN\n",
      "Train on 108 samples, validate on 20 samples\n",
      "Epoch 1/15\n",
      "108/108 [==============================] - 0s - loss: 22.5232 - acc: 0.5556 - val_loss: 3.0865 - val_acc: 0.6000\n",
      "Epoch 2/15\n",
      "108/108 [==============================] - 0s - loss: 13.9448 - acc: 0.8519 - val_loss: 0.8874 - val_acc: 0.5000\n",
      "Epoch 3/15\n",
      "108/108 [==============================] - 0s - loss: 8.2683 - acc: 0.8889 - val_loss: 0.8176 - val_acc: 0.4000\n",
      "Epoch 4/15\n",
      "108/108 [==============================] - 0s - loss: 5.2140 - acc: 0.9630 - val_loss: 0.8139 - val_acc: 0.5000\n",
      "Epoch 5/15\n",
      "108/108 [==============================] - 0s - loss: 3.6798 - acc: 0.9907 - val_loss: 0.7509 - val_acc: 0.4500\n",
      "Epoch 6/15\n",
      "108/108 [==============================] - 0s - loss: 2.6788 - acc: 0.9907 - val_loss: 0.7363 - val_acc: 0.4500\n",
      "Epoch 7/15\n",
      "108/108 [==============================] - 0s - loss: 2.0285 - acc: 0.9907 - val_loss: 0.7375 - val_acc: 0.5000\n",
      "Epoch 8/15\n",
      "108/108 [==============================] - 0s - loss: 1.5920 - acc: 0.9907 - val_loss: 0.8180 - val_acc: 0.4500\n",
      "Epoch 9/15\n",
      "108/108 [==============================] - 0s - loss: 1.3246 - acc: 0.9907 - val_loss: 0.8739 - val_acc: 0.5000\n",
      "Epoch 10/15\n",
      "108/108 [==============================] - 0s - loss: 1.1549 - acc: 0.9630 - val_loss: 0.8568 - val_acc: 0.5000\n",
      "Epoch 11/15\n",
      "108/108 [==============================] - 0s - loss: 0.9800 - acc: 0.9815 - val_loss: 0.9132 - val_acc: 0.4500\n",
      "Epoch 12/15\n",
      "108/108 [==============================] - 0s - loss: 0.8586 - acc: 1.0000 - val_loss: 0.8815 - val_acc: 0.4500\n",
      "Epoch 13/15\n",
      "108/108 [==============================] - 0s - loss: 0.7543 - acc: 1.0000 - val_loss: 0.8614 - val_acc: 0.4000\n",
      "Epoch 14/15\n",
      "108/108 [==============================] - 0s - loss: 0.6576 - acc: 1.0000 - val_loss: 0.7823 - val_acc: 0.4000\n",
      "Epoch 15/15\n",
      "108/108 [==============================] - 0s - loss: 0.5799 - acc: 1.0000 - val_loss: 0.7669 - val_acc: 0.5000\n",
      "Training model 4 CNN\n",
      "Train on 108 samples, validate on 20 samples\n",
      "Epoch 1/15\n",
      "108/108 [==============================] - 0s - loss: 2.0798 - acc: 0.4722 - val_loss: 0.6681 - val_acc: 0.6500\n",
      "Epoch 2/15\n",
      "108/108 [==============================] - 0s - loss: 2.0358 - acc: 0.4630 - val_loss: 0.6380 - val_acc: 0.6500\n",
      "Epoch 3/15\n",
      "108/108 [==============================] - 0s - loss: 2.0113 - acc: 0.5093 - val_loss: 0.6492 - val_acc: 0.7000\n",
      "Epoch 4/15\n",
      "108/108 [==============================] - 0s - loss: 1.9687 - acc: 0.5556 - val_loss: 0.6493 - val_acc: 0.7500\n",
      "Epoch 5/15\n",
      "108/108 [==============================] - 0s - loss: 1.9882 - acc: 0.4907 - val_loss: 0.6818 - val_acc: 0.7000\n",
      "Epoch 6/15\n",
      "108/108 [==============================] - 0s - loss: 1.9881 - acc: 0.5185 - val_loss: 0.6786 - val_acc: 0.7000\n",
      "Epoch 7/15\n",
      "108/108 [==============================] - 0s - loss: 1.9700 - acc: 0.5000 - val_loss: 0.7165 - val_acc: 0.7000\n",
      "Epoch 8/15\n",
      "108/108 [==============================] - 0s - loss: 1.9740 - acc: 0.5093 - val_loss: 0.6929 - val_acc: 0.7000\n",
      "Epoch 9/15\n",
      "108/108 [==============================] - 0s - loss: 1.9222 - acc: 0.5833 - val_loss: 0.6798 - val_acc: 0.6500\n",
      "Epoch 10/15\n",
      "108/108 [==============================] - 0s - loss: 1.9429 - acc: 0.5093 - val_loss: 0.6516 - val_acc: 0.7000\n",
      "Epoch 11/15\n",
      "108/108 [==============================] - 0s - loss: 1.9180 - acc: 0.5556 - val_loss: 0.6543 - val_acc: 0.6500\n",
      "Epoch 12/15\n",
      "108/108 [==============================] - 0s - loss: 1.9098 - acc: 0.5741 - val_loss: 0.6581 - val_acc: 0.6500\n",
      "Epoch 13/15\n",
      "108/108 [==============================] - 0s - loss: 1.9089 - acc: 0.5556 - val_loss: 0.6527 - val_acc: 0.7000\n",
      "Epoch 14/15\n",
      "108/108 [==============================] - 0s - loss: 1.8961 - acc: 0.6019 - val_loss: 0.6760 - val_acc: 0.6000\n",
      "Epoch 15/15\n",
      "108/108 [==============================] - 0s - loss: 1.9453 - acc: 0.5278 - val_loss: 0.6651 - val_acc: 0.6000\n",
      "CPU times: user 1min 26s, sys: 256 ms, total: 1min 26s\n",
      "Wall time: 1min 45s\n"
     ]
    }
   ],
   "source": [
    "%%time\n",
    "histories, val_accuracies, val_losses = find_architecture.train_models_on_samples(X_train, y_train_binary,\n",
    "                                                                                 X_val, y_val_binary,\n",
    "                                                                                 models,nr_epochs=15,\n",
    "                                                                                  subset_size=200,\n",
    "                                                                                  verbose=True)"
   ]
  },
  {
   "cell_type": "code",
   "execution_count": null,
   "metadata": {
    "collapsed": false
   },
   "outputs": [],
   "source": [
    "%%time\n",
    "for i in range(len(models)):\n",
    "    name = str(models[i][1])\n",
    "    find_architecture.plotTrainingProcess(histories[i], name)"
   ]
  },
  {
   "cell_type": "code",
   "execution_count": null,
   "metadata": {
    "collapsed": false
   },
   "outputs": [],
   "source": [
    "#%%time\n",
    "import pandas as pd\n",
    "results = pd.DataFrame({'model':[str(params) for model, params, model_types in models],\n",
    "                       'train_acc': [history.history['acc'][-1] for history in histories],\n",
    "                       'train_loss': [history.history['loss'][-1] for history in histories],\n",
    "                       'val_acc': [history.history['val_acc'][-1] for history in histories],\n",
    "                       'val_loss': [history.history['val_loss'][-1] for history in histories]\n",
    "                       })\n",
    "results"
   ]
  },
  {
   "cell_type": "markdown",
   "metadata": {},
   "source": [
    "## Train the best model for real"
   ]
  },
  {
   "cell_type": "code",
   "execution_count": null,
   "metadata": {
    "collapsed": true
   },
   "outputs": [],
   "source": [
    "best_model_index = np.argmax(val_accuracies)\n",
    "#best_model_index = np.argmax(val_losses)\n",
    "#best_model_index = 1"
   ]
  },
  {
   "cell_type": "code",
   "execution_count": null,
   "metadata": {
    "collapsed": false
   },
   "outputs": [],
   "source": [
    "import theano\n",
    "theano.config.mode"
   ]
  },
  {
   "cell_type": "code",
   "execution_count": null,
   "metadata": {
    "collapsed": false
   },
   "outputs": [],
   "source": [
    "best_model, best_params, best_model_types = models[best_model_index]\n",
    "print(best_model_index, best_model_types, best_params)"
   ]
  },
  {
   "cell_type": "code",
   "execution_count": null,
   "metadata": {
    "collapsed": false
   },
   "outputs": [],
   "source": [
    "best_model_copy = modelgen.generate_CNN_model(X_train.shape, num_classes, best_params['filters'], best_params['fc_hidden_nodes'],\n",
    "                       best_params['learning_rate'], best_params['regularization_rate'])\n",
    "best_model_copy = best_model\n",
    "print(best_model_index, best_model_types, best_params)"
   ]
  },
  {
   "cell_type": "code",
   "execution_count": null,
   "metadata": {
    "collapsed": false
   },
   "outputs": [],
   "source": [
    "nr_epochs = 10\n",
    "datasize = X_train.shape[0]#1000\n",
    "history = best_model_copy.fit(X_train[:datasize,:,:], y_train_binary[:datasize,:],\n",
    "              nb_epoch=nr_epochs, validation_data=(X_val, y_val_binary), batch_size=20)"
   ]
  },
  {
   "cell_type": "code",
   "execution_count": null,
   "metadata": {
    "collapsed": false
   },
   "outputs": [],
   "source": [
    "find_architecture.plotTrainingProcess(history)"
   ]
  },
  {
   "cell_type": "markdown",
   "metadata": {},
   "source": [
    "## Inspect model predictions"
   ]
  },
  {
   "cell_type": "code",
   "execution_count": null,
   "metadata": {
    "collapsed": false
   },
   "outputs": [],
   "source": [
    "datasize = X_val.shape[0]\n",
    "best_model_copy.predict_proba(X_val[:datasize,:,:],batch_size=1)"
   ]
  },
  {
   "cell_type": "code",
   "execution_count": null,
   "metadata": {
    "collapsed": false
   },
   "outputs": [],
   "source": [
    "best_model_copy.summary()"
   ]
  },
  {
   "cell_type": "code",
   "execution_count": null,
   "metadata": {
    "collapsed": false
   },
   "outputs": [],
   "source": [
    "from keras import backend as K\n",
    "\n",
    "# with a Sequential model\n",
    "get_dens_layer_output = K.function([best_model_copy.layers[0].input, K.learning_phase()],\n",
    "                                  [best_model_copy.layers[0].output])\n",
    "layer_output = get_dens_layer_output([X_val, 0])[0]"
   ]
  },
  {
   "cell_type": "code",
   "execution_count": null,
   "metadata": {
    "collapsed": false
   },
   "outputs": [],
   "source": [
    "layer_output.shape"
   ]
  },
  {
   "cell_type": "code",
   "execution_count": null,
   "metadata": {
    "collapsed": false
   },
   "outputs": [],
   "source": [
    "layer_output.mean(axis=(0,1))"
   ]
  },
  {
   "cell_type": "code",
   "execution_count": null,
   "metadata": {
    "collapsed": false
   },
   "outputs": [],
   "source": [
    "layer = best_model.layers[0]\n",
    "for w in layer.get_weights():\n",
    "    print(w.shape)"
   ]
  },
  {
   "cell_type": "markdown",
   "metadata": {},
   "source": [
    "## See if we can overfit on a small train set"
   ]
  },
  {
   "cell_type": "code",
   "execution_count": null,
   "metadata": {
    "collapsed": false
   },
   "outputs": [],
   "source": [
    "params = models[0][1]\n",
    "print(params)\n",
    "small_model = modelgen.generate_CNN_model(X_train.shape, num_classes, params['filters'], params['fc_hidden_nodes'],\n",
    "                                  0.01, #params['learning_rate'], \n",
    "                                        regularization_rate=0)\n",
    "small_model.summary()"
   ]
  },
  {
   "cell_type": "code",
   "execution_count": null,
   "metadata": {
    "collapsed": false
   },
   "outputs": [],
   "source": [
    "small_model.evaluate(X_val, y_val_binary)"
   ]
  },
  {
   "cell_type": "code",
   "execution_count": null,
   "metadata": {
    "collapsed": false
   },
   "outputs": [],
   "source": [
    "nr_epochs = 100\n",
    "datasize = 20\n",
    "history = small_model.fit(X_train[:datasize,:,:], y_train_binary[:datasize,:],\n",
    "              nb_epoch=nr_epochs, validation_data=(X_val, y_val_binary), batch_size=10)"
   ]
  },
  {
   "cell_type": "markdown",
   "metadata": {},
   "source": [
    "## Test on Testset"
   ]
  },
  {
   "cell_type": "code",
   "execution_count": null,
   "metadata": {
    "collapsed": false
   },
   "outputs": [],
   "source": [
    "score_test = best_model.evaluate(X_test, y_test_binary, verbose=False)\n",
    "print('Score of best model: ' + str(score_test))"
   ]
  },
  {
   "cell_type": "code",
   "execution_count": null,
   "metadata": {
    "collapsed": false
   },
   "outputs": [],
   "source": [
    "best_model.get_config()[0]"
   ]
  },
  {
   "cell_type": "code",
   "execution_count": null,
   "metadata": {
    "collapsed": true
   },
   "outputs": [],
   "source": []
  },
  {
   "cell_type": "code",
   "execution_count": null,
   "metadata": {
    "collapsed": true
   },
   "outputs": [],
   "source": []
  },
  {
   "cell_type": "code",
   "execution_count": null,
   "metadata": {
    "collapsed": true
   },
   "outputs": [],
   "source": []
  }
 ],
 "metadata": {
  "anaconda-cloud": {},
  "kernelspec": {
   "display_name": "Python [default]",
   "language": "python",
   "name": "python3"
  },
  "language_info": {
   "codemirror_mode": {
    "name": "ipython",
    "version": 3
   },
   "file_extension": ".py",
   "mimetype": "text/x-python",
   "name": "python",
   "nbconvert_exporter": "python",
   "pygments_lexer": "ipython3",
   "version": "3.5.2"
  }
 },
 "nbformat": 4,
 "nbformat_minor": 0
}
