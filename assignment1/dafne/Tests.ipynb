{
 "cells": [
  {
   "cell_type": "code",
   "execution_count": 2,
   "metadata": {
    "collapsed": true
   },
   "outputs": [],
   "source": [
    "# A bit of setup\n",
    "\n",
    "import numpy as np\n",
    "import matplotlib.pyplot as plt\n",
    "\n",
    "from cs231n.classifiers.neural_net import TwoLayerNet\n",
    "\n",
    "%matplotlib inline\n",
    "plt.rcParams['figure.figsize'] = (10.0, 8.0) # set default size of plots\n",
    "plt.rcParams['image.interpolation'] = 'nearest'\n",
    "plt.rcParams['image.cmap'] = 'gray'\n",
    "\n",
    "# for auto-reloading external modules\n",
    "# see http://stackoverflow.com/questions/1907993/autoreload-of-modules-in-ipython\n",
    "%load_ext autoreload\n",
    "%autoreload 2\n",
    "\n",
    "def rel_error(x, y):\n",
    "  \"\"\" returns relative error \"\"\"\n",
    "  return np.max(np.abs(x - y) / (np.maximum(1e-8, np.abs(x) + np.abs(y))))"
   ]
  },
  {
   "cell_type": "code",
   "execution_count": 3,
   "metadata": {
    "collapsed": false
   },
   "outputs": [],
   "source": [
    "input_size = 4\n",
    "hidden_size = 10\n",
    "num_classes = 3\n",
    "num_inputs = 5\n",
    "\n",
    "def init_toy_model():\n",
    "  np.random.seed(0)\n",
    "  return TwoLayerNet(input_size, hidden_size, num_classes, std=1e-1)\n",
    "\n",
    "def init_toy_data():\n",
    "  np.random.seed(1)\n",
    "  X = 10 * np.random.randn(num_inputs, input_size)\n",
    "  y = np.array([0, 1, 2, 2, 1])\n",
    "  return X, y\n",
    "\n",
    "net = init_toy_model()\n",
    "X, y = init_toy_data()"
   ]
  },
  {
   "cell_type": "code",
   "execution_count": 22,
   "metadata": {
    "collapsed": false
   },
   "outputs": [
    {
     "ename": "ValueError",
     "evalue": "operands could not be broadcast together with shapes (10,) (5,4) ",
     "output_type": "error",
     "traceback": [
      "\u001b[1;31m---------------------------------------------------------------------------\u001b[0m",
      "\u001b[1;31mValueError\u001b[0m                                Traceback (most recent call last)",
      "\u001b[1;32m<ipython-input-22-a2ceb9e63568>\u001b[0m in \u001b[0;36m<module>\u001b[1;34m()\u001b[0m\n\u001b[0;32m      1\u001b[0m \u001b[0mdh1\u001b[0m \u001b[1;33m=\u001b[0m \u001b[0mnet\u001b[0m\u001b[1;33m.\u001b[0m\u001b[0mparams\u001b[0m\u001b[1;33m[\u001b[0m\u001b[1;34m'W2'\u001b[0m\u001b[1;33m]\u001b[0m\u001b[1;33m.\u001b[0m\u001b[0msum\u001b[0m\u001b[1;33m(\u001b[0m\u001b[0maxis\u001b[0m\u001b[1;33m=\u001b[0m\u001b[1;36m1\u001b[0m\u001b[1;33m)\u001b[0m\u001b[1;33m\u001b[0m\u001b[0m\n\u001b[1;32m----> 2\u001b[1;33m \u001b[0mdh1\u001b[0m \u001b[1;33m*\u001b[0m \u001b[0mX\u001b[0m\u001b[1;33m\u001b[0m\u001b[0m\n\u001b[0m",
      "\u001b[1;31mValueError\u001b[0m: operands could not be broadcast together with shapes (10,) (5,4) "
     ]
    }
   ],
   "source": [
    "dh1 = net.params['W2'].sum(axis=1)\n",
    "dh1 * X"
   ]
  },
  {
   "cell_type": "code",
   "execution_count": 61,
   "metadata": {
    "collapsed": false
   },
   "outputs": [],
   "source": [
    "def prob_from_scores(scores):\n",
    "    maxscore = np.max(scores, 1)\n",
    "    shifted_scores = scores - maxscore[:,np.newaxis]\n",
    "    probs = np.exp(shifted_scores) / np.sum(np.exp(shifted_scores), 1)[:,np.newaxis]\n",
    "    return probs"
   ]
  },
  {
   "cell_type": "code",
   "execution_count": 79,
   "metadata": {
    "collapsed": false
   },
   "outputs": [],
   "source": [
    "reg = 0\n",
    "W1, b1 = net.params['W1'], net.params['b1']\n",
    "W2, b2 = net.params['W2'], net.params['b2']\n",
    "N, D = X.shape\n",
    "\n",
    "# Compute the forward pass\n",
    "scores = None\n",
    "#############################################################################\n",
    "# TODO: Perform the forward pass, computing the class scores for the input. #\n",
    "# Store the result in the scores variable, which should be an array of      #\n",
    "# shape (N, C).                                                             #\n",
    "#############################################################################\n",
    "f = lambda x: np.maximum(x, 0)\n",
    "h0 = X.dot(W1) + b1\n",
    "h1 = f(h0)\n",
    "#    maxscore = np.max(f1, 1)\n",
    "#    f1_shifted = f1 - maxscore[:,np.newaxis]\n",
    "#    h1 = np.exp(f1_shifted) / np.sum(np.exp(f1_shifted), 1)[:,np.newaxis]\n",
    "scores = h1.dot(W2) + b2\n",
    "#############################################################################\n",
    "#                              END OF YOUR CODE                             #\n",
    "#############################################################################\n",
    "\n",
    "# Compute the loss\n",
    "loss = None\n",
    "#############################################################################\n",
    "# TODO: Finish the forward pass, and compute the loss. This should include  #\n",
    "# both the data loss and L2 regularization for W1 and W2. Store the result  #\n",
    "# in the variable loss, which should be a scalar. Use the Softmax           #\n",
    "# classifier loss. So that your results match ours, multiply the            #\n",
    "# regularization loss by 0.5                                                #\n",
    "#############################################################################\n",
    "maxscore = np.max(scores, 1)\n",
    "shifted_scores = scores - maxscore[:,np.newaxis]\n",
    "probs = np.exp(shifted_scores) / np.sum(np.exp(shifted_scores), 1)[:,np.newaxis]\n",
    "losses = -np.log( probs[xrange(N), y] )\n",
    "loss = losses.sum() / N\n",
    "loss += 0.5 * reg * (np.sum(W1*W1) + np.sum(W2*W2) + sum(b1*b1) + sum(b2*b2))\n",
    "#############################################################################\n",
    "#                              END OF YOUR CODE                             #\n",
    "#############################################################################\n",
    "\n",
    "# Backward pass: compute gradients\n",
    "grads = {}\n",
    "#############################################################################\n",
    "# TODO: Compute the backward pass, computing the derivatives of the weights #\n",
    "# and biases. Store the results in the grads dictionary. For example,       #\n",
    "# grads['W1'] should store the gradient on W1, and be a matrix of same size #\n",
    "#############################################################################\n",
    "ds = (- true_indices + probs).sum(axis=0)\n",
    "grads['W2'] = ds*h1.transpose().dot(scores)\n",
    "grads['b2'] = ds*scores.sum(axis=0)\n",
    "dh1 = (ds*W2).sum(axis=1)\n",
    "dh0 = dh1*1*(np.maximum(h0, 0)>0)\n",
    "grads['W1'] = X.transpose().dot(dh0)\n",
    "grads['b1'] = dh0.sum(axis=0)"
   ]
  },
  {
   "cell_type": "code",
   "execution_count": 81,
   "metadata": {
    "collapsed": false
   },
   "outputs": [
    {
     "data": {
      "text/plain": [
       "array([ 1.04984549, -0.7159525 , -0.33389299])"
      ]
     },
     "execution_count": 81,
     "metadata": {},
     "output_type": "execute_result"
    }
   ],
   "source": [
    "ds"
   ]
  },
  {
   "cell_type": "code",
   "execution_count": 70,
   "metadata": {
    "collapsed": false
   },
   "outputs": [
    {
     "name": "stdout",
     "output_type": "stream",
     "text": [
      "(10,)\n",
      "(5, 10)\n",
      "(4, 10)\n",
      "(10, 3)\n",
      "(10,)\n",
      "(3,)\n"
     ]
    }
   ],
   "source": [
    "print dh1.shape\n",
    "print dh0.shape\n",
    "print grads['W1'].shape\n",
    "print grads['W2'].shape\n",
    "print grads['b1'].shape\n",
    "print grads['b2'].shape"
   ]
  },
  {
   "cell_type": "code",
   "execution_count": 73,
   "metadata": {
    "collapsed": false
   },
   "outputs": [
    {
     "ename": "IndexError",
     "evalue": "index 5 is out of bounds for axis 0 with size 5",
     "output_type": "error",
     "traceback": [
      "\u001b[1;31m---------------------------------------------------------------------------\u001b[0m",
      "\u001b[1;31mIndexError\u001b[0m                                Traceback (most recent call last)",
      "\u001b[1;32m<ipython-input-73-10ab27df6950>\u001b[0m in \u001b[0;36m<module>\u001b[1;34m()\u001b[0m\n\u001b[0;32m      2\u001b[0m \u001b[0mgradIncorrect\u001b[0m \u001b[1;33m=\u001b[0m \u001b[0mX\u001b[0m\u001b[1;33m.\u001b[0m\u001b[0mtranspose\u001b[0m\u001b[1;33m(\u001b[0m\u001b[1;33m)\u001b[0m\u001b[1;33m.\u001b[0m\u001b[0mdot\u001b[0m\u001b[1;33m(\u001b[0m\u001b[0mmargindices\u001b[0m\u001b[1;33m)\u001b[0m\u001b[1;33m\u001b[0m\u001b[0m\n\u001b[0;32m      3\u001b[0m \u001b[0mgradCorrect\u001b[0m \u001b[1;33m=\u001b[0m \u001b[0mnp\u001b[0m\u001b[1;33m.\u001b[0m\u001b[0msum\u001b[0m\u001b[1;33m(\u001b[0m\u001b[0mX\u001b[0m\u001b[1;33m*\u001b[0m\u001b[0mnp\u001b[0m\u001b[1;33m.\u001b[0m\u001b[0mtranspose\u001b[0m\u001b[1;33m(\u001b[0m\u001b[1;33m[\u001b[0m\u001b[0mnOverflow\u001b[0m\u001b[1;33m]\u001b[0m\u001b[1;33m*\u001b[0m\u001b[0mD\u001b[0m\u001b[1;33m)\u001b[0m\u001b[1;33m,\u001b[0m\u001b[1;36m1\u001b[0m\u001b[1;33m)\u001b[0m\u001b[1;33m\u001b[0m\u001b[0m\n\u001b[1;32m----> 4\u001b[1;33m \u001b[0mgradIncorrect\u001b[0m\u001b[1;33m[\u001b[0m\u001b[0mxrange\u001b[0m\u001b[1;33m(\u001b[0m\u001b[0mN\u001b[0m\u001b[1;33m)\u001b[0m\u001b[1;33m,\u001b[0m\u001b[0my\u001b[0m\u001b[1;33m]\u001b[0m \u001b[1;33m+=\u001b[0m \u001b[0mnp\u001b[0m\u001b[1;33m.\u001b[0m\u001b[0msum\u001b[0m\u001b[1;33m(\u001b[0m\u001b[0mX\u001b[0m\u001b[1;33m*\u001b[0m\u001b[0mnp\u001b[0m\u001b[1;33m.\u001b[0m\u001b[0mtranspose\u001b[0m\u001b[1;33m(\u001b[0m\u001b[1;33m[\u001b[0m\u001b[0mnOverflow\u001b[0m\u001b[1;33m]\u001b[0m\u001b[1;33m*\u001b[0m\u001b[0mD\u001b[0m\u001b[1;33m)\u001b[0m\u001b[1;33m,\u001b[0m\u001b[1;36m1\u001b[0m\u001b[1;33m)\u001b[0m\u001b[1;33m\u001b[0m\u001b[0m\n\u001b[0m",
      "\u001b[1;31mIndexError\u001b[0m: index 5 is out of bounds for axis 0 with size 5"
     ]
    }
   ],
   "source": [
    "#margindices.transpose().dot(X).transpose()\n",
    "gradIncorrect = X.transpose().dot(margindices)\n",
    "gradCorrect = np.sum(X*np.transpose([nOverflow]*D),1)\n",
    "gradIncorrect[xrange(N),y] += np.sum(X*np.transpose([nOverflow]*D),1)"
   ]
  },
  {
   "cell_type": "code",
   "execution_count": 76,
   "metadata": {
    "collapsed": false
   },
   "outputs": [
    {
     "data": {
      "text/plain": [
       "array([[ 2.,  0.,  0.],\n",
       "       [ 0.,  0.,  0.],\n",
       "       [ 0.,  0.,  1.],\n",
       "       [ 1.,  0.,  0.],\n",
       "       [ 0.,  1.,  0.],\n",
       "       [ 0.,  0.,  0.],\n",
       "       [ 2.,  0.,  0.],\n",
       "       [ 0.,  0.,  2.],\n",
       "       [ 0.,  0.,  0.],\n",
       "       [ 0.,  1.,  0.]])"
      ]
     },
     "execution_count": 76,
     "metadata": {},
     "output_type": "execute_result"
    }
   ],
   "source": [
    "nOverflow = margindices.sum(1)\n",
    "\n",
    "true_indices = np.zeros(margindices.shape)\n",
    "true_indices[xrange(N),y] = 1\n",
    "margindices2 = true_indices* np.transpose([nOverflow]*K)\n",
    "true_indices"
   ]
  },
  {
   "cell_type": "code",
   "execution_count": 79,
   "metadata": {
    "collapsed": false
   },
   "outputs": [],
   "source": [
    "learning_rate=1e-3\n",
    "reg=1e-5\n",
    "num_iters=100\n",
    "batch_size=200"
   ]
  },
  {
   "cell_type": "code",
   "execution_count": 82,
   "metadata": {
    "collapsed": false
   },
   "outputs": [],
   "source": [
    "num_train, dim = X.shape\n",
    "num_classes = np.max(y) + 1"
   ]
  },
  {
   "cell_type": "code",
   "execution_count": 84,
   "metadata": {
    "collapsed": false
   },
   "outputs": [],
   "source": [
    "sampleIndices = np.random.choice(num_train, batch_size)\n",
    "x_batch = X[sampleIndices]"
   ]
  },
  {
   "cell_type": "code",
   "execution_count": 87,
   "metadata": {
    "collapsed": false
   },
   "outputs": [
    {
     "data": {
      "text/plain": [
       "(200, 5)"
      ]
     },
     "execution_count": 87,
     "metadata": {},
     "output_type": "execute_result"
    }
   ],
   "source": [
    "x_batch.shape"
   ]
  },
  {
   "cell_type": "code",
   "execution_count": 91,
   "metadata": {
    "collapsed": false
   },
   "outputs": [
    {
     "data": {
      "text/plain": [
       "array([2, 1, 0, 2, 2, 2, 2, 1, 1, 0])"
      ]
     },
     "execution_count": 91,
     "metadata": {},
     "output_type": "execute_result"
    }
   ],
   "source": [
    "np.argmax(X.dot(w), 1)"
   ]
  },
  {
   "cell_type": "code",
   "execution_count": 93,
   "metadata": {
    "collapsed": false
   },
   "outputs": [],
   "source": [
    "W = w\n",
    "num_classes = W.shape[1]\n",
    "num_train = X.shape[0]\n",
    "loss = 0.0\n",
    "i=0\n",
    "scores = X[i].dot(W)\n",
    "maxscore = np.max(scores)\n",
    "shifted_scores = scores - maxscore\n",
    "prob = np.exp(shifted_scores[y[i]]) / np.sum(np.exp(shifted_scores))\n",
    "loss += -np.log( prob )"
   ]
  },
  {
   "cell_type": "code",
   "execution_count": 94,
   "metadata": {
    "collapsed": false
   },
   "outputs": [
    {
     "data": {
      "text/plain": [
       "array([  2.22694417e-284,   1.36792233e-001,   8.63207767e-001])"
      ]
     },
     "execution_count": 94,
     "metadata": {},
     "output_type": "execute_result"
    }
   ],
   "source": [
    "probs = np.exp(shifted_scores) / np.sum(np.exp(shifted_scores))\n",
    "probs"
   ]
  },
  {
   "cell_type": "code",
   "execution_count": 124,
   "metadata": {
    "collapsed": false
   },
   "outputs": [
    {
     "data": {
      "text/plain": [
       "array([[-276.02673381, -144.03374628,  420.06048009],\n",
       "       [ 117.48410423,    0.47107995, -117.95518419],\n",
       "       [ 138.52086798,   74.29220512, -212.81307311],\n",
       "       [-163.77482208, -209.58392787,  373.35874996],\n",
       "       [ 431.44820255,  -44.34351608, -387.10468646]])"
      ]
     },
     "execution_count": 124,
     "metadata": {},
     "output_type": "execute_result"
    }
   ],
   "source": [
    "scores = X.dot(W)\n",
    "maxscore = np.max(scores, 1)\n",
    "shifted_scores = scores - maxscore[:,np.newaxis]\n",
    "probs = np.exp(shifted_scores) / np.sum(np.exp(shifted_scores), 1)[:,np.newaxis]\n",
    "\n",
    "losses = -np.log( probs[xrange(num_train), y] )\n",
    "loss = losses.sum() / num_train\n",
    "true_indices = np.zeros(probs.shape)\n",
    "true_indices[xrange(num_train),y] = 1\n",
    "dW = - X.transpose().dot(true_indices - probs)\n",
    "dW /= num_train"
   ]
  },
  {
   "cell_type": "code",
   "execution_count": 114,
   "metadata": {
    "collapsed": false
   },
   "outputs": [
    {
     "data": {
      "text/plain": [
       "array([[  2.22694417e-284,   1.36792233e-001,   8.63207767e-001],\n",
       "       [  1.85128273e-091,   1.00000000e+000,   3.15412608e-028],\n",
       "       [  1.00000000e+000,   3.32622725e-230,   4.20033992e-208],\n",
       "       [  9.94720573e-098,   2.10912742e-180,   1.00000000e+000],\n",
       "       [  3.62125555e-234,   2.77751856e-053,   1.00000000e+000],\n",
       "       [  3.07604800e-117,   3.44940788e-051,   1.00000000e+000],\n",
       "       [  8.52309234e-179,   2.46700570e-165,   1.00000000e+000],\n",
       "       [  1.08813177e-033,   1.00000000e+000,   6.60698816e-123],\n",
       "       [  1.89696790e-138,   9.99999999e-001,   1.49548337e-009],\n",
       "       [  1.00000000e+000,   8.09717014e-017,   3.70633181e-048]])"
      ]
     },
     "execution_count": 114,
     "metadata": {},
     "output_type": "execute_result"
    }
   ],
   "source": [
    "scores = X.dot(W)\n",
    "maxscore = np.max(scores, 1)\n",
    "shifted_scores = scores - maxscore[:,np.newaxis]\n",
    "probs = np.exp(shifted_scores) / np.sum(np.exp(shifted_scores), 1)[:,np.newaxis]\n",
    "probs"
   ]
  },
  {
   "cell_type": "code",
   "execution_count": 118,
   "metadata": {
    "collapsed": false
   },
   "outputs": [
    {
     "data": {
      "text/plain": [
       "array([  2.22694417e-284,   1.00000000e+000,   4.20033992e-208,\n",
       "         9.94720573e-098,   2.77751856e-053,   1.00000000e+000,\n",
       "         8.52309234e-179,   6.60698816e-123,   9.99999999e-001,\n",
       "         8.09717014e-017])"
      ]
     },
     "execution_count": 118,
     "metadata": {},
     "output_type": "execute_result"
    }
   ],
   "source": [
    "probs[xrange(num_train), y]"
   ]
  },
  {
   "cell_type": "code",
   "execution_count": 113,
   "metadata": {
    "collapsed": false
   },
   "outputs": [
    {
     "data": {
      "text/plain": [
       "array([ 1.15846965,  1.        ,  1.        ,  1.        ,  1.        ,\n",
       "        1.        ,  1.        ,  1.        ,  1.        ,  1.        ])"
      ]
     },
     "execution_count": 113,
     "metadata": {},
     "output_type": "execute_result"
    }
   ],
   "source": [
    "np.sum(np.exp(shifted_scores), 1)"
   ]
  },
  {
   "cell_type": "code",
   "execution_count": 7,
   "metadata": {
    "collapsed": false
   },
   "outputs": [
    {
     "data": {
      "text/plain": [
       "array([1, 0, 4])"
      ]
     },
     "execution_count": 7,
     "metadata": {},
     "output_type": "execute_result"
    }
   ],
   "source": [
    "import numpy as np\n",
    "x = np.array([1, -1, 4])\n",
    "np.maximum(x, 0)"
   ]
  },
  {
   "cell_type": "code",
   "execution_count": null,
   "metadata": {
    "collapsed": true
   },
   "outputs": [],
   "source": []
  }
 ],
 "metadata": {
  "kernelspec": {
   "display_name": "Python 2",
   "language": "python",
   "name": "python2"
  },
  "language_info": {
   "codemirror_mode": {
    "name": "ipython",
    "version": 2
   },
   "file_extension": ".py",
   "mimetype": "text/x-python",
   "name": "python",
   "nbconvert_exporter": "python",
   "pygments_lexer": "ipython2",
   "version": "2.7.11"
  }
 },
 "nbformat": 4,
 "nbformat_minor": 0
}
